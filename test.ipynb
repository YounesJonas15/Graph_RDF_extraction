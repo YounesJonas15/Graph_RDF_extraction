{
 "cells": [
  {
   "cell_type": "code",
   "execution_count": 4,
   "metadata": {},
   "outputs": [],
   "source": [
    "text = \"\"\"\n",
    "Napoleon Bonaparte (born Napoleone di Buonaparte; 15 August 1769 – 5 May 1821), and later known by his regnal name Napoleon I, was a French military and political leader who rose to prominence during the French Revolution and led several successful campaigns during the Revolutionary Wars. He was the de facto leader of the French Republic as First Consul from 1799 to 1804. \n",
    "\"\"\""
   ]
  },
  {
   "cell_type": "code",
   "execution_count": 3,
   "metadata": {},
   "outputs": [
    {
     "name": "stderr",
     "output_type": "stream",
     "text": [
      "c:\\projets personnels\\text_to_rdf\\venv\\lib\\site-packages\\tqdm\\auto.py:21: TqdmWarning: IProgress not found. Please update jupyter and ipywidgets. See https://ipywidgets.readthedocs.io/en/stable/user_install.html\n",
      "  from .autonotebook import tqdm as notebook_tqdm\n"
     ]
    }
   ],
   "source": [
    "from py.rdf_grapher import RDFGrapher\n",
    "from py.knowledge_graph_extractor import KnowledgeGraphExtractor\n"
   ]
  },
  {
   "cell_type": "code",
   "execution_count": 5,
   "metadata": {},
   "outputs": [],
   "source": [
    "from py.gpt_coref_resolver import coreference_resolver"
   ]
  },
  {
   "cell_type": "code",
   "execution_count": 6,
   "metadata": {},
   "outputs": [],
   "source": [
    "resolved_text = coreference_resolver(text)"
   ]
  },
  {
   "cell_type": "code",
   "execution_count": 7,
   "metadata": {},
   "outputs": [
    {
     "name": "stdout",
     "output_type": "stream",
     "text": [
      "Napoleon Bonaparte (born Napoleone di Buonaparte; 15 August 1769 – 5 May 1821), et plus tard connu sous le nom de règne Napoleon I, était un leader militaire et politique français qui a gagné en notoriété pendant la Révolution française et a dirigé plusieurs campagnes réussies pendant les Guerres révolutionnaires. Napoleon Bonaparte était le leader de facto de la République française en tant que Premier Consul de 1799 à 1804.\n"
     ]
    }
   ],
   "source": [
    "print(resolved_text)"
   ]
  },
  {
   "cell_type": "code",
   "execution_count": 8,
   "metadata": {},
   "outputs": [],
   "source": [
    "kge = KnowledgeGraphExtractor()"
   ]
  },
  {
   "cell_type": "code",
   "execution_count": 9,
   "metadata": {},
   "outputs": [],
   "source": [
    "triplet = kge.extract_triplet(resolved_text)"
   ]
  },
  {
   "cell_type": "markdown",
   "metadata": {},
   "source": [
    "### exemple d'extractio  d'URI "
   ]
  },
  {
   "cell_type": "code",
   "execution_count": 88,
   "metadata": {},
   "outputs": [
    {
     "name": "stderr",
     "output_type": "stream",
     "text": [
      "c:\\projets personnels\\text_to_rdf\\venv\\lib\\site-packages\\wikipedia\\wikipedia.py:389: GuessedAtParserWarning: No parser was explicitly specified, so I'm using the best available HTML parser for this system (\"html5lib\"). This usually isn't a problem, but if you run this code on another system, or in a different virtual environment, it may use a different parser and behave differently.\n",
      "\n",
      "The code that caused this warning is on line 389 of the file c:\\projets personnels\\text_to_rdf\\venv\\lib\\site-packages\\wikipedia\\wikipedia.py. To get rid of this warning, pass the additional argument 'features=\"html5lib\"' to the BeautifulSoup constructor.\n",
      "\n",
      "  lis = BeautifulSoup(html).find_all('li')\n"
     ]
    }
   ],
   "source": [
    "res = kge.extract_uri(triplet)"
   ]
  },
  {
   "cell_type": "code",
   "execution_count": 89,
   "metadata": {},
   "outputs": [
    {
     "data": {
      "text/plain": [
       "{'5 May 1821': '5 May 1821',\n",
       " 'French Republic': 'http://dbpedia.org/resource/France',\n",
       " '15 August 1769': '15 August 1769',\n",
       " 'French Revolution': 'http://dbpedia.org/resource/French_Revolution',\n",
       " 'Napoleon Bonaparte': 'http://dbpedia.org/resource/Napoleon',\n",
       " 'Revolutionary Wars': 'Revolutionary Wars',\n",
       " 'First Consul': 'http://dbpedia.org/resource/French_Consulate'}"
      ]
     },
     "execution_count": 89,
     "metadata": {},
     "output_type": "execute_result"
    }
   ],
   "source": [
    "res"
   ]
  },
  {
   "cell_type": "markdown",
   "metadata": {},
   "source": [
    "### exemple utilisation get_predicate_sparql"
   ]
  },
  {
   "cell_type": "code",
   "execution_count": 59,
   "metadata": {},
   "outputs": [],
   "source": [
    "a_tuple = (\"http://dbpedia.org/resource/Barack_Obama\", \"wasBornIn\", \"http://dbpedia.org/resource/Hawaii\")\n"
   ]
  },
  {
   "cell_type": "code",
   "execution_count": 90,
   "metadata": {},
   "outputs": [],
   "source": []
  },
  {
   "cell_type": "code",
   "execution_count": 91,
   "metadata": {},
   "outputs": [],
   "source": [
    "rdf_triplets = kge.transform_to_rdf_triplet(triplet)"
   ]
  },
  {
   "cell_type": "code",
   "execution_count": 92,
   "metadata": {},
   "outputs": [
    {
     "name": "stdout",
     "output_type": "stream",
     "text": [
      "******************************************* DEBUT TRIPLET SANS ENRICHISSEMENT *********************************************\n",
      "(Napoleon Bonaparte, 'date of birth', 15 August 1769)\n",
      "(Napoleon Bonaparte, 'date of death', 5 May 1821)\n",
      "(Napoleon Bonaparte, 'participant in', French Revolution)\n",
      "(Napoleon Bonaparte, 'conflict', Revolutionary Wars)\n",
      "(French Revolution, 'participant', Napoleon Bonaparte)\n",
      "(Revolutionary Wars, 'participant', Napoleon Bonaparte)\n",
      "(Napoleon Bonaparte, 'position held', First Consul)\n",
      "(French Republic, 'head of state', Napoleon Bonaparte)\n",
      "(First Consul, 'officeholder', Napoleon Bonaparte)\n",
      "******************************************* FIN TRIPLET SANS ENRICHISSEMENT *********************************************\n"
     ]
    }
   ],
   "source": [
    "print(\"******************************************* DEBUT TRIPLET SANS ENRICHISSEMENT *********************************************\")\n",
    "for triplet in triplets:\n",
    "    print(triplet)\n",
    "print(\"******************************************* FIN TRIPLET SANS ENRICHISSEMENT *********************************************\")"
   ]
  },
  {
   "cell_type": "code",
   "execution_count": 93,
   "metadata": {},
   "outputs": [
    {
     "name": "stdout",
     "output_type": "stream",
     "text": [
      "******************************************* DEBUT TRIPLET ENRICHIS *********************************************\n",
      "('http://dbpedia.org/resource/Napoleon', 'http://www.w3.org/1999/02/22-rdf-syntax-ns#type', 'http://www.w3.org/2002/07/owl#Thing')\n",
      "('http://dbpedia.org/resource/Napoleon', 'http://www.w3.org/1999/02/22-rdf-syntax-ns#type', 'http://xmlns.com/foaf/0.1/Person')\n",
      "('http://dbpedia.org/resource/Napoleon', 'http://www.w3.org/1999/02/22-rdf-syntax-ns#type', 'http://dbpedia.org/ontology/Person')\n",
      "('http://dbpedia.org/resource/Napoleon', 'http://www.w3.org/1999/02/22-rdf-syntax-ns#type', 'http://www.ontologydesignpatterns.org/ont/dul/DUL.owl#NaturalPerson')\n",
      "('http://dbpedia.org/resource/Napoleon', 'http://www.w3.org/1999/02/22-rdf-syntax-ns#type', 'http://www.wikidata.org/entity/Q19088')\n",
      "('http://dbpedia.org/resource/Napoleon', 'http://www.w3.org/1999/02/22-rdf-syntax-ns#type', 'http://www.wikidata.org/entity/Q215627')\n",
      "('http://dbpedia.org/resource/Napoleon', 'http://www.w3.org/1999/02/22-rdf-syntax-ns#type', 'http://www.wikidata.org/entity/Q5')\n",
      "('http://dbpedia.org/resource/Napoleon', 'http://www.w3.org/1999/02/22-rdf-syntax-ns#type', 'http://www.wikidata.org/entity/Q729')\n",
      "('http://dbpedia.org/resource/Napoleon', 'http://www.w3.org/1999/02/22-rdf-syntax-ns#type', 'http://dbpedia.org/class/yago/WikicatAttemptedAssassinationSurvivors')\n",
      "('http://dbpedia.org/resource/Napoleon', 'http://www.w3.org/1999/02/22-rdf-syntax-ns#type', 'http://dbpedia.org/ontology/Animal')\n",
      "('http://dbpedia.org/resource/Napoleon', 'date of birth', '15 August 1769')\n",
      "('http://dbpedia.org/resource/Napoleon', 'http://www.w3.org/1999/02/22-rdf-syntax-ns#type', 'http://www.w3.org/2002/07/owl#Thing')\n",
      "('http://dbpedia.org/resource/Napoleon', 'http://www.w3.org/1999/02/22-rdf-syntax-ns#type', 'http://xmlns.com/foaf/0.1/Person')\n",
      "('http://dbpedia.org/resource/Napoleon', 'http://www.w3.org/1999/02/22-rdf-syntax-ns#type', 'http://dbpedia.org/ontology/Person')\n",
      "('http://dbpedia.org/resource/Napoleon', 'http://www.w3.org/1999/02/22-rdf-syntax-ns#type', 'http://www.ontologydesignpatterns.org/ont/dul/DUL.owl#NaturalPerson')\n",
      "('http://dbpedia.org/resource/Napoleon', 'http://www.w3.org/1999/02/22-rdf-syntax-ns#type', 'http://www.wikidata.org/entity/Q19088')\n",
      "('http://dbpedia.org/resource/Napoleon', 'http://www.w3.org/1999/02/22-rdf-syntax-ns#type', 'http://www.wikidata.org/entity/Q215627')\n",
      "('http://dbpedia.org/resource/Napoleon', 'http://www.w3.org/1999/02/22-rdf-syntax-ns#type', 'http://www.wikidata.org/entity/Q5')\n",
      "('http://dbpedia.org/resource/Napoleon', 'http://www.w3.org/1999/02/22-rdf-syntax-ns#type', 'http://www.wikidata.org/entity/Q729')\n",
      "('http://dbpedia.org/resource/Napoleon', 'http://www.w3.org/1999/02/22-rdf-syntax-ns#type', 'http://dbpedia.org/class/yago/WikicatAttemptedAssassinationSurvivors')\n",
      "('http://dbpedia.org/resource/Napoleon', 'http://www.w3.org/1999/02/22-rdf-syntax-ns#type', 'http://dbpedia.org/ontology/Animal')\n",
      "('http://dbpedia.org/resource/Napoleon', 'date of death', '5 May 1821')\n",
      "('http://dbpedia.org/resource/Napoleon', 'http://dbpedia.org/ontology/wikiPageWikiLink', 'http://dbpedia.org/resource/French_Revolution')\n",
      "('http://dbpedia.org/resource/Napoleon', 'participant in', 'http://dbpedia.org/resource/French_Revolution')\n",
      "('http://dbpedia.org/resource/Napoleon', 'http://www.w3.org/1999/02/22-rdf-syntax-ns#type', 'http://www.w3.org/2002/07/owl#Thing')\n",
      "('http://dbpedia.org/resource/Napoleon', 'http://www.w3.org/1999/02/22-rdf-syntax-ns#type', 'http://xmlns.com/foaf/0.1/Person')\n",
      "('http://dbpedia.org/resource/Napoleon', 'http://www.w3.org/1999/02/22-rdf-syntax-ns#type', 'http://dbpedia.org/ontology/Person')\n",
      "('http://dbpedia.org/resource/Napoleon', 'http://www.w3.org/1999/02/22-rdf-syntax-ns#type', 'http://www.ontologydesignpatterns.org/ont/dul/DUL.owl#NaturalPerson')\n",
      "('http://dbpedia.org/resource/Napoleon', 'http://www.w3.org/1999/02/22-rdf-syntax-ns#type', 'http://www.wikidata.org/entity/Q19088')\n",
      "('http://dbpedia.org/resource/Napoleon', 'http://www.w3.org/1999/02/22-rdf-syntax-ns#type', 'http://www.wikidata.org/entity/Q215627')\n",
      "('http://dbpedia.org/resource/Napoleon', 'http://www.w3.org/1999/02/22-rdf-syntax-ns#type', 'http://www.wikidata.org/entity/Q5')\n",
      "('http://dbpedia.org/resource/Napoleon', 'http://www.w3.org/1999/02/22-rdf-syntax-ns#type', 'http://www.wikidata.org/entity/Q729')\n",
      "('http://dbpedia.org/resource/Napoleon', 'http://www.w3.org/1999/02/22-rdf-syntax-ns#type', 'http://dbpedia.org/class/yago/WikicatAttemptedAssassinationSurvivors')\n",
      "('http://dbpedia.org/resource/Napoleon', 'http://www.w3.org/1999/02/22-rdf-syntax-ns#type', 'http://dbpedia.org/ontology/Animal')\n",
      "('http://dbpedia.org/resource/French_Revolution', 'http://www.w3.org/1999/02/22-rdf-syntax-ns#type', 'http://www.w3.org/2002/07/owl#Thing')\n",
      "('http://dbpedia.org/resource/French_Revolution', 'http://www.w3.org/1999/02/22-rdf-syntax-ns#type', 'http://dbpedia.org/class/yago/WikicatSocialMovements')\n",
      "('http://dbpedia.org/resource/French_Revolution', 'http://www.w3.org/1999/02/22-rdf-syntax-ns#type', 'http://dbpedia.org/class/yago/Abstraction100002137')\n",
      "('http://dbpedia.org/resource/French_Revolution', 'http://www.w3.org/1999/02/22-rdf-syntax-ns#type', 'http://dbpedia.org/class/yago/Act100030358')\n",
      "('http://dbpedia.org/resource/French_Revolution', 'http://www.w3.org/1999/02/22-rdf-syntax-ns#type', 'http://dbpedia.org/class/yago/Change107296428')\n",
      "('http://dbpedia.org/resource/French_Revolution', 'http://www.w3.org/1999/02/22-rdf-syntax-ns#type', 'http://dbpedia.org/class/yago/Conflict100958896')\n",
      "('http://dbpedia.org/resource/French_Revolution', 'http://www.w3.org/1999/02/22-rdf-syntax-ns#type', 'http://dbpedia.org/class/yago/Event100029378')\n",
      "('http://dbpedia.org/resource/French_Revolution', 'http://www.w3.org/1999/02/22-rdf-syntax-ns#type', 'http://dbpedia.org/class/yago/Group100031264')\n",
      "('http://dbpedia.org/resource/French_Revolution', 'http://www.w3.org/1999/02/22-rdf-syntax-ns#type', 'http://dbpedia.org/class/yago/GroupAction101080366')\n",
      "('http://dbpedia.org/resource/French_Revolution', 'http://www.w3.org/1999/02/22-rdf-syntax-ns#type', 'http://dbpedia.org/class/yago/Happening107283608')\n",
      "('http://dbpedia.org/resource/Napoleon', 'http://www.w3.org/1999/02/22-rdf-syntax-ns#type', 'http://www.w3.org/2002/07/owl#Thing')\n",
      "('http://dbpedia.org/resource/Napoleon', 'http://www.w3.org/1999/02/22-rdf-syntax-ns#type', 'http://xmlns.com/foaf/0.1/Person')\n",
      "('http://dbpedia.org/resource/Napoleon', 'http://www.w3.org/1999/02/22-rdf-syntax-ns#type', 'http://dbpedia.org/ontology/Person')\n",
      "('http://dbpedia.org/resource/Napoleon', 'http://www.w3.org/1999/02/22-rdf-syntax-ns#type', 'http://www.ontologydesignpatterns.org/ont/dul/DUL.owl#NaturalPerson')\n",
      "('http://dbpedia.org/resource/Napoleon', 'http://www.w3.org/1999/02/22-rdf-syntax-ns#type', 'http://www.wikidata.org/entity/Q19088')\n",
      "('http://dbpedia.org/resource/Napoleon', 'http://www.w3.org/1999/02/22-rdf-syntax-ns#type', 'http://www.wikidata.org/entity/Q215627')\n",
      "('http://dbpedia.org/resource/Napoleon', 'http://www.w3.org/1999/02/22-rdf-syntax-ns#type', 'http://www.wikidata.org/entity/Q5')\n",
      "('http://dbpedia.org/resource/Napoleon', 'http://www.w3.org/1999/02/22-rdf-syntax-ns#type', 'http://www.wikidata.org/entity/Q729')\n",
      "('http://dbpedia.org/resource/Napoleon', 'http://www.w3.org/1999/02/22-rdf-syntax-ns#type', 'http://dbpedia.org/class/yago/WikicatAttemptedAssassinationSurvivors')\n",
      "('http://dbpedia.org/resource/Napoleon', 'http://www.w3.org/1999/02/22-rdf-syntax-ns#type', 'http://dbpedia.org/ontology/Animal')\n",
      "('http://dbpedia.org/resource/Napoleon', 'conflict', 'http://example.org/Revolutionary_Wars')\n",
      "('http://dbpedia.org/resource/French_Revolution', 'participant', 'http://dbpedia.org/resource/Napoleon')\n",
      "('http://dbpedia.org/resource/French_Revolution', 'http://www.w3.org/1999/02/22-rdf-syntax-ns#type', 'http://www.w3.org/2002/07/owl#Thing')\n",
      "('http://dbpedia.org/resource/French_Revolution', 'http://www.w3.org/1999/02/22-rdf-syntax-ns#type', 'http://dbpedia.org/class/yago/WikicatSocialMovements')\n",
      "('http://dbpedia.org/resource/French_Revolution', 'http://www.w3.org/1999/02/22-rdf-syntax-ns#type', 'http://dbpedia.org/class/yago/Abstraction100002137')\n",
      "('http://dbpedia.org/resource/French_Revolution', 'http://www.w3.org/1999/02/22-rdf-syntax-ns#type', 'http://dbpedia.org/class/yago/Act100030358')\n",
      "('http://dbpedia.org/resource/French_Revolution', 'http://www.w3.org/1999/02/22-rdf-syntax-ns#type', 'http://dbpedia.org/class/yago/Change107296428')\n",
      "('http://dbpedia.org/resource/French_Revolution', 'http://www.w3.org/1999/02/22-rdf-syntax-ns#type', 'http://dbpedia.org/class/yago/Conflict100958896')\n",
      "('http://dbpedia.org/resource/French_Revolution', 'http://www.w3.org/1999/02/22-rdf-syntax-ns#type', 'http://dbpedia.org/class/yago/Event100029378')\n",
      "('http://dbpedia.org/resource/French_Revolution', 'http://www.w3.org/1999/02/22-rdf-syntax-ns#type', 'http://dbpedia.org/class/yago/Group100031264')\n",
      "('http://dbpedia.org/resource/French_Revolution', 'http://www.w3.org/1999/02/22-rdf-syntax-ns#type', 'http://dbpedia.org/class/yago/GroupAction101080366')\n",
      "('http://dbpedia.org/resource/French_Revolution', 'http://www.w3.org/1999/02/22-rdf-syntax-ns#type', 'http://dbpedia.org/class/yago/Happening107283608')\n",
      "('http://dbpedia.org/resource/Napoleon', 'http://www.w3.org/1999/02/22-rdf-syntax-ns#type', 'http://www.w3.org/2002/07/owl#Thing')\n",
      "('http://dbpedia.org/resource/Napoleon', 'http://www.w3.org/1999/02/22-rdf-syntax-ns#type', 'http://xmlns.com/foaf/0.1/Person')\n",
      "('http://dbpedia.org/resource/Napoleon', 'http://www.w3.org/1999/02/22-rdf-syntax-ns#type', 'http://dbpedia.org/ontology/Person')\n",
      "('http://dbpedia.org/resource/Napoleon', 'http://www.w3.org/1999/02/22-rdf-syntax-ns#type', 'http://www.ontologydesignpatterns.org/ont/dul/DUL.owl#NaturalPerson')\n",
      "('http://dbpedia.org/resource/Napoleon', 'http://www.w3.org/1999/02/22-rdf-syntax-ns#type', 'http://www.wikidata.org/entity/Q19088')\n",
      "('http://dbpedia.org/resource/Napoleon', 'http://www.w3.org/1999/02/22-rdf-syntax-ns#type', 'http://www.wikidata.org/entity/Q215627')\n",
      "('http://dbpedia.org/resource/Napoleon', 'http://www.w3.org/1999/02/22-rdf-syntax-ns#type', 'http://www.wikidata.org/entity/Q5')\n",
      "('http://dbpedia.org/resource/Napoleon', 'http://www.w3.org/1999/02/22-rdf-syntax-ns#type', 'http://www.wikidata.org/entity/Q729')\n",
      "('http://dbpedia.org/resource/Napoleon', 'http://www.w3.org/1999/02/22-rdf-syntax-ns#type', 'http://dbpedia.org/class/yago/WikicatAttemptedAssassinationSurvivors')\n",
      "('http://dbpedia.org/resource/Napoleon', 'http://www.w3.org/1999/02/22-rdf-syntax-ns#type', 'http://dbpedia.org/ontology/Animal')\n",
      "('http://dbpedia.org/resource/Napoleon', 'http://www.w3.org/1999/02/22-rdf-syntax-ns#type', 'http://www.w3.org/2002/07/owl#Thing')\n",
      "('http://dbpedia.org/resource/Napoleon', 'http://www.w3.org/1999/02/22-rdf-syntax-ns#type', 'http://xmlns.com/foaf/0.1/Person')\n",
      "('http://dbpedia.org/resource/Napoleon', 'http://www.w3.org/1999/02/22-rdf-syntax-ns#type', 'http://dbpedia.org/ontology/Person')\n",
      "('http://dbpedia.org/resource/Napoleon', 'http://www.w3.org/1999/02/22-rdf-syntax-ns#type', 'http://www.ontologydesignpatterns.org/ont/dul/DUL.owl#NaturalPerson')\n",
      "('http://dbpedia.org/resource/Napoleon', 'http://www.w3.org/1999/02/22-rdf-syntax-ns#type', 'http://www.wikidata.org/entity/Q19088')\n",
      "('http://dbpedia.org/resource/Napoleon', 'http://www.w3.org/1999/02/22-rdf-syntax-ns#type', 'http://www.wikidata.org/entity/Q215627')\n",
      "('http://dbpedia.org/resource/Napoleon', 'http://www.w3.org/1999/02/22-rdf-syntax-ns#type', 'http://www.wikidata.org/entity/Q5')\n",
      "('http://dbpedia.org/resource/Napoleon', 'http://www.w3.org/1999/02/22-rdf-syntax-ns#type', 'http://www.wikidata.org/entity/Q729')\n",
      "('http://dbpedia.org/resource/Napoleon', 'http://www.w3.org/1999/02/22-rdf-syntax-ns#type', 'http://dbpedia.org/class/yago/WikicatAttemptedAssassinationSurvivors')\n",
      "('http://dbpedia.org/resource/Napoleon', 'http://www.w3.org/1999/02/22-rdf-syntax-ns#type', 'http://dbpedia.org/ontology/Animal')\n",
      "('http://dbpedia.org/resource/Napoleon', 'http://dbpedia.org/ontology/wikiPageWikiLink', 'http://dbpedia.org/resource/French_Consulate')\n",
      "('http://dbpedia.org/resource/Napoleon', 'http://dbpedia.org/property/succession', 'http://dbpedia.org/resource/French_Consulate')\n",
      "('http://dbpedia.org/resource/Napoleon', 'position held', 'http://dbpedia.org/resource/French_Consulate')\n",
      "('http://dbpedia.org/resource/Napoleon', 'http://www.w3.org/1999/02/22-rdf-syntax-ns#type', 'http://www.w3.org/2002/07/owl#Thing')\n",
      "('http://dbpedia.org/resource/Napoleon', 'http://www.w3.org/1999/02/22-rdf-syntax-ns#type', 'http://xmlns.com/foaf/0.1/Person')\n",
      "('http://dbpedia.org/resource/Napoleon', 'http://www.w3.org/1999/02/22-rdf-syntax-ns#type', 'http://dbpedia.org/ontology/Person')\n",
      "('http://dbpedia.org/resource/Napoleon', 'http://www.w3.org/1999/02/22-rdf-syntax-ns#type', 'http://www.ontologydesignpatterns.org/ont/dul/DUL.owl#NaturalPerson')\n",
      "('http://dbpedia.org/resource/Napoleon', 'http://www.w3.org/1999/02/22-rdf-syntax-ns#type', 'http://www.wikidata.org/entity/Q19088')\n",
      "('http://dbpedia.org/resource/Napoleon', 'http://www.w3.org/1999/02/22-rdf-syntax-ns#type', 'http://www.wikidata.org/entity/Q215627')\n",
      "('http://dbpedia.org/resource/Napoleon', 'http://www.w3.org/1999/02/22-rdf-syntax-ns#type', 'http://www.wikidata.org/entity/Q5')\n",
      "('http://dbpedia.org/resource/Napoleon', 'http://www.w3.org/1999/02/22-rdf-syntax-ns#type', 'http://www.wikidata.org/entity/Q729')\n",
      "('http://dbpedia.org/resource/Napoleon', 'http://www.w3.org/1999/02/22-rdf-syntax-ns#type', 'http://dbpedia.org/class/yago/WikicatAttemptedAssassinationSurvivors')\n",
      "('http://dbpedia.org/resource/Napoleon', 'http://www.w3.org/1999/02/22-rdf-syntax-ns#type', 'http://dbpedia.org/ontology/Animal')\n",
      "('http://dbpedia.org/resource/French_Consulate', 'http://www.w3.org/1999/02/22-rdf-syntax-ns#type', 'http://www.w3.org/2002/07/owl#Thing')\n",
      "('http://dbpedia.org/resource/French_Consulate', 'http://www.w3.org/1999/02/22-rdf-syntax-ns#type', 'http://schema.org/Organization')\n",
      "('http://dbpedia.org/resource/French_Consulate', 'http://www.w3.org/1999/02/22-rdf-syntax-ns#type', 'http://www.ontologydesignpatterns.org/ont/dul/DUL.owl#Agent')\n",
      "('http://dbpedia.org/resource/French_Consulate', 'http://www.w3.org/1999/02/22-rdf-syntax-ns#type', 'http://www.ontologydesignpatterns.org/ont/dul/DUL.owl#SocialPerson')\n",
      "('http://dbpedia.org/resource/French_Consulate', 'http://www.w3.org/1999/02/22-rdf-syntax-ns#type', 'http://dbpedia.org/ontology/Agent')\n",
      "('http://dbpedia.org/resource/French_Consulate', 'http://www.w3.org/1999/02/22-rdf-syntax-ns#type', 'http://www.wikidata.org/entity/Q11204')\n",
      "('http://dbpedia.org/resource/French_Consulate', 'http://www.w3.org/1999/02/22-rdf-syntax-ns#type', 'http://www.wikidata.org/entity/Q24229398')\n",
      "('http://dbpedia.org/resource/French_Consulate', 'http://www.w3.org/1999/02/22-rdf-syntax-ns#type', 'http://www.wikidata.org/entity/Q43229')\n",
      "('http://dbpedia.org/resource/French_Consulate', 'http://www.w3.org/1999/02/22-rdf-syntax-ns#type', 'http://dbpedia.org/class/yago/Abstraction100002137')\n",
      "('http://dbpedia.org/resource/French_Consulate', 'http://www.w3.org/1999/02/22-rdf-syntax-ns#type', 'http://dbpedia.org/class/yago/Assembly108163792')\n",
      "('http://dbpedia.org/resource/France', 'http://dbpedia.org/ontology/wikiPageWikiLink', 'http://dbpedia.org/resource/Napoleon')\n",
      "('http://dbpedia.org/resource/France', 'head of state', 'http://dbpedia.org/resource/Napoleon')\n",
      "('http://dbpedia.org/resource/France', 'http://www.w3.org/1999/02/22-rdf-syntax-ns#type', 'http://www.w3.org/2002/07/owl#Thing')\n",
      "('http://dbpedia.org/resource/France', 'http://www.w3.org/1999/02/22-rdf-syntax-ns#type', 'http://dbpedia.org/ontology/Place')\n",
      "('http://dbpedia.org/resource/France', 'http://www.w3.org/1999/02/22-rdf-syntax-ns#type', 'http://dbpedia.org/ontology/Location')\n",
      "('http://dbpedia.org/resource/France', 'http://www.w3.org/1999/02/22-rdf-syntax-ns#type', 'http://schema.org/Place')\n",
      "('http://dbpedia.org/resource/France', 'http://www.w3.org/1999/02/22-rdf-syntax-ns#type', 'http://schema.org/Country')\n",
      "('http://dbpedia.org/resource/France', 'http://www.w3.org/1999/02/22-rdf-syntax-ns#type', 'http://www.wikidata.org/entity/Q6256')\n",
      "('http://dbpedia.org/resource/France', 'http://www.w3.org/1999/02/22-rdf-syntax-ns#type', 'http://dbpedia.org/ontology/PopulatedPlace')\n",
      "('http://dbpedia.org/resource/France', 'http://www.w3.org/1999/02/22-rdf-syntax-ns#type', 'http://dbpedia.org/class/yago/WikicatCountries')\n",
      "('http://dbpedia.org/resource/France', 'http://www.w3.org/1999/02/22-rdf-syntax-ns#type', 'http://dbpedia.org/class/yago/WikicatCountriesInEurope')\n",
      "('http://dbpedia.org/resource/France', 'http://www.w3.org/1999/02/22-rdf-syntax-ns#type', 'http://dbpedia.org/class/yago/WikicatCountriesInOceania')\n",
      "('http://dbpedia.org/resource/Napoleon', 'http://www.w3.org/1999/02/22-rdf-syntax-ns#type', 'http://www.w3.org/2002/07/owl#Thing')\n",
      "('http://dbpedia.org/resource/Napoleon', 'http://www.w3.org/1999/02/22-rdf-syntax-ns#type', 'http://xmlns.com/foaf/0.1/Person')\n",
      "('http://dbpedia.org/resource/Napoleon', 'http://www.w3.org/1999/02/22-rdf-syntax-ns#type', 'http://dbpedia.org/ontology/Person')\n",
      "('http://dbpedia.org/resource/Napoleon', 'http://www.w3.org/1999/02/22-rdf-syntax-ns#type', 'http://www.ontologydesignpatterns.org/ont/dul/DUL.owl#NaturalPerson')\n",
      "('http://dbpedia.org/resource/Napoleon', 'http://www.w3.org/1999/02/22-rdf-syntax-ns#type', 'http://www.wikidata.org/entity/Q19088')\n",
      "('http://dbpedia.org/resource/Napoleon', 'http://www.w3.org/1999/02/22-rdf-syntax-ns#type', 'http://www.wikidata.org/entity/Q215627')\n",
      "('http://dbpedia.org/resource/Napoleon', 'http://www.w3.org/1999/02/22-rdf-syntax-ns#type', 'http://www.wikidata.org/entity/Q5')\n",
      "('http://dbpedia.org/resource/Napoleon', 'http://www.w3.org/1999/02/22-rdf-syntax-ns#type', 'http://www.wikidata.org/entity/Q729')\n",
      "('http://dbpedia.org/resource/Napoleon', 'http://www.w3.org/1999/02/22-rdf-syntax-ns#type', 'http://dbpedia.org/class/yago/WikicatAttemptedAssassinationSurvivors')\n",
      "('http://dbpedia.org/resource/Napoleon', 'http://www.w3.org/1999/02/22-rdf-syntax-ns#type', 'http://dbpedia.org/ontology/Animal')\n",
      "('http://dbpedia.org/resource/French_Consulate', 'http://dbpedia.org/ontology/wikiPageWikiLink', 'http://dbpedia.org/resource/Napoleon')\n",
      "('http://dbpedia.org/resource/French_Consulate', 'officeholder', 'http://dbpedia.org/resource/Napoleon')\n",
      "('http://dbpedia.org/resource/French_Consulate', 'http://www.w3.org/1999/02/22-rdf-syntax-ns#type', 'http://www.w3.org/2002/07/owl#Thing')\n",
      "('http://dbpedia.org/resource/French_Consulate', 'http://www.w3.org/1999/02/22-rdf-syntax-ns#type', 'http://schema.org/Organization')\n",
      "('http://dbpedia.org/resource/French_Consulate', 'http://www.w3.org/1999/02/22-rdf-syntax-ns#type', 'http://www.ontologydesignpatterns.org/ont/dul/DUL.owl#Agent')\n",
      "('http://dbpedia.org/resource/French_Consulate', 'http://www.w3.org/1999/02/22-rdf-syntax-ns#type', 'http://www.ontologydesignpatterns.org/ont/dul/DUL.owl#SocialPerson')\n",
      "('http://dbpedia.org/resource/French_Consulate', 'http://www.w3.org/1999/02/22-rdf-syntax-ns#type', 'http://dbpedia.org/ontology/Agent')\n",
      "('http://dbpedia.org/resource/French_Consulate', 'http://www.w3.org/1999/02/22-rdf-syntax-ns#type', 'http://www.wikidata.org/entity/Q11204')\n",
      "('http://dbpedia.org/resource/French_Consulate', 'http://www.w3.org/1999/02/22-rdf-syntax-ns#type', 'http://www.wikidata.org/entity/Q24229398')\n",
      "('http://dbpedia.org/resource/French_Consulate', 'http://www.w3.org/1999/02/22-rdf-syntax-ns#type', 'http://www.wikidata.org/entity/Q43229')\n",
      "('http://dbpedia.org/resource/French_Consulate', 'http://www.w3.org/1999/02/22-rdf-syntax-ns#type', 'http://dbpedia.org/class/yago/Abstraction100002137')\n",
      "('http://dbpedia.org/resource/French_Consulate', 'http://www.w3.org/1999/02/22-rdf-syntax-ns#type', 'http://dbpedia.org/class/yago/Assembly108163792')\n",
      "('http://dbpedia.org/resource/Napoleon', 'http://www.w3.org/1999/02/22-rdf-syntax-ns#type', 'http://www.w3.org/2002/07/owl#Thing')\n",
      "('http://dbpedia.org/resource/Napoleon', 'http://www.w3.org/1999/02/22-rdf-syntax-ns#type', 'http://xmlns.com/foaf/0.1/Person')\n",
      "('http://dbpedia.org/resource/Napoleon', 'http://www.w3.org/1999/02/22-rdf-syntax-ns#type', 'http://dbpedia.org/ontology/Person')\n",
      "('http://dbpedia.org/resource/Napoleon', 'http://www.w3.org/1999/02/22-rdf-syntax-ns#type', 'http://www.ontologydesignpatterns.org/ont/dul/DUL.owl#NaturalPerson')\n",
      "('http://dbpedia.org/resource/Napoleon', 'http://www.w3.org/1999/02/22-rdf-syntax-ns#type', 'http://www.wikidata.org/entity/Q19088')\n",
      "('http://dbpedia.org/resource/Napoleon', 'http://www.w3.org/1999/02/22-rdf-syntax-ns#type', 'http://www.wikidata.org/entity/Q215627')\n",
      "('http://dbpedia.org/resource/Napoleon', 'http://www.w3.org/1999/02/22-rdf-syntax-ns#type', 'http://www.wikidata.org/entity/Q5')\n",
      "('http://dbpedia.org/resource/Napoleon', 'http://www.w3.org/1999/02/22-rdf-syntax-ns#type', 'http://www.wikidata.org/entity/Q729')\n",
      "('http://dbpedia.org/resource/Napoleon', 'http://www.w3.org/1999/02/22-rdf-syntax-ns#type', 'http://dbpedia.org/class/yago/WikicatAttemptedAssassinationSurvivors')\n",
      "('http://dbpedia.org/resource/Napoleon', 'http://www.w3.org/1999/02/22-rdf-syntax-ns#type', 'http://dbpedia.org/ontology/Animal')\n",
      "******************************************* FIN TRIPLET ENRICHIS *********************************************\n"
     ]
    }
   ],
   "source": [
    "triplets_enrichis = kge.enrichir_graph(rdf_triplets)\n",
    "print(\"******************************************* DEBUT TRIPLET ENRICHIS *********************************************\")\n",
    "for t in triplets_enrichis:\n",
    "    print(t)\n",
    "print(\"******************************************* FIN TRIPLET ENRICHIS *********************************************\")"
   ]
  },
  {
   "cell_type": "code",
   "execution_count": 2,
   "metadata": {},
   "outputs": [
    {
     "ename": "NameError",
     "evalue": "name 'RDFGrapher' is not defined",
     "output_type": "error",
     "traceback": [
      "\u001b[1;31m---------------------------------------------------------------------------\u001b[0m",
      "\u001b[1;31mNameError\u001b[0m                                 Traceback (most recent call last)",
      "Cell \u001b[1;32mIn[2], line 1\u001b[0m\n\u001b[1;32m----> 1\u001b[0m rdfgraphe \u001b[38;5;241m=\u001b[39m \u001b[43mRDFGrapher\u001b[49m()\n\u001b[0;32m      2\u001b[0m rdf_graph_triplet \u001b[38;5;241m=\u001b[39m rdfgraphe\u001b[38;5;241m.\u001b[39mtransform_triplets_to_rdflib(triplets_enrichis)\n",
      "\u001b[1;31mNameError\u001b[0m: name 'RDFGrapher' is not defined"
     ]
    }
   ],
   "source": [
    "rdfgraphe = RDFGrapher()\n",
    "rdf_graph_triplet = rdfgraphe.transform_triplets_to_rdflib(triplets_enrichis)"
   ]
  },
  {
   "cell_type": "code",
   "execution_count": 95,
   "metadata": {},
   "outputs": [],
   "source": [
    "final_graph = rdfgraphe.get_final_graph(rdf_graph_triplet)\n"
   ]
  },
  {
   "cell_type": "code",
   "execution_count": 96,
   "metadata": {},
   "outputs": [
    {
     "name": "stdout",
     "output_type": "stream",
     "text": [
      "[a rdfg:Graph;rdflib:storage [a rdflib:Store;rdfs:label 'Memory']].\n"
     ]
    }
   ],
   "source": [
    "print(final_graph)"
   ]
  },
  {
   "cell_type": "code",
   "execution_count": 1,
   "metadata": {},
   "outputs": [
    {
     "ename": "NameError",
     "evalue": "name 'RDFGrapher' is not defined",
     "output_type": "error",
     "traceback": [
      "\u001b[1;31m---------------------------------------------------------------------------\u001b[0m",
      "\u001b[1;31mNameError\u001b[0m                                 Traceback (most recent call last)",
      "Cell \u001b[1;32mIn[1], line 1\u001b[0m\n\u001b[1;32m----> 1\u001b[0m \u001b[43mRDFGrapher\u001b[49m\u001b[38;5;241m.\u001b[39mvisualize(final_graph,\u001b[38;5;124m'\u001b[39m\u001b[38;5;124mteest\u001b[39m\u001b[38;5;124m'\u001b[39m)\n",
      "\u001b[1;31mNameError\u001b[0m: name 'RDFGrapher' is not defined"
     ]
    }
   ],
   "source": [
    "RDFGrapher.visualize(final_graph,'teest')\n"
   ]
  },
  {
   "cell_type": "code",
   "execution_count": 62,
   "metadata": {},
   "outputs": [],
   "source": [
    "def main_without_coref_resolution(kge: KnowledgeGraphExtractor, text: str, image_name:str):\n",
    "  resolved_text = coreference_resolver(text)\n",
    "  triplets =  kge.extract_triplet(resolved_text)\n",
    "  rdf_triplets = kge.transform_to_rdf_triplet(triplets)\n",
    "  print(\"******************************************* DEBUT TRIPLET SANS ENRICHISSEMENT *********************************************\")\n",
    "  for triplet in triplets:\n",
    "    print(triplet)\n",
    "  print(\"******************************************* FIN TRIPLET SANS ENRICHISSEMENT *********************************************\")\n",
    "  triplets_enrichis = kge.enrichir_graph(rdf_triplets)\n",
    "  print(\"******************************************* DEBUT TRIPLET ENRICHIS *********************************************\")\n",
    "  for t in triplets_enrichis:\n",
    "    print(t)\n",
    "  print(\"******************************************* FIN TRIPLET ENRICHIS *********************************************\")\n",
    "  rdfgraphe = RDFGrapher()\n",
    "  rdf_graph_triplet = rdfgraphe.transform_triplets_to_rdflib(triplets_enrichis)\n",
    "  final_graph = rdfgraphe.get_final_graph(rdf_graph_triplet)\n",
    "  RDFGrapher.visualize(final_graph, image_name)\n",
    "  return triplets"
   ]
  },
  {
   "cell_type": "code",
   "execution_count": 63,
   "metadata": {},
   "outputs": [
    {
     "ename": "AttributeError",
     "evalue": "'KnowledgeGraphExtractor' object has no attribute 'transform_to_rdf_triplet'",
     "output_type": "error",
     "traceback": [
      "\u001b[1;31m---------------------------------------------------------------------------\u001b[0m",
      "\u001b[1;31mAttributeError\u001b[0m                            Traceback (most recent call last)",
      "Cell \u001b[1;32mIn[63], line 1\u001b[0m\n\u001b[1;32m----> 1\u001b[0m \u001b[43mmain_without_coref_resolution\u001b[49m\u001b[43m(\u001b[49m\u001b[43mkge\u001b[49m\u001b[43m,\u001b[49m\u001b[43mtext\u001b[49m\u001b[43m,\u001b[49m\u001b[38;5;124;43m'\u001b[39;49m\u001b[38;5;124;43mnapo\u001b[39;49m\u001b[38;5;124;43m'\u001b[39;49m\u001b[43m)\u001b[49m\n",
      "Cell \u001b[1;32mIn[62], line 4\u001b[0m, in \u001b[0;36mmain_without_coref_resolution\u001b[1;34m(kge, text, image_name)\u001b[0m\n\u001b[0;32m      2\u001b[0m resolved_text \u001b[38;5;241m=\u001b[39m coreference_resolver(text)\n\u001b[0;32m      3\u001b[0m triplets \u001b[38;5;241m=\u001b[39m  kge\u001b[38;5;241m.\u001b[39mextract_triplet(resolved_text)\n\u001b[1;32m----> 4\u001b[0m rdf_triplets \u001b[38;5;241m=\u001b[39m \u001b[43mkge\u001b[49m\u001b[38;5;241;43m.\u001b[39;49m\u001b[43mtransform_to_rdf_triplet\u001b[49m(triplets)\n\u001b[0;32m      5\u001b[0m \u001b[38;5;28mprint\u001b[39m(\u001b[38;5;124m\"\u001b[39m\u001b[38;5;124m******************************************* DEBUT TRIPLET SANS ENRICHISSEMENT *********************************************\u001b[39m\u001b[38;5;124m\"\u001b[39m)\n\u001b[0;32m      6\u001b[0m \u001b[38;5;28;01mfor\u001b[39;00m triplet \u001b[38;5;129;01min\u001b[39;00m triplets:\n",
      "\u001b[1;31mAttributeError\u001b[0m: 'KnowledgeGraphExtractor' object has no attribute 'transform_to_rdf_triplet'"
     ]
    }
   ],
   "source": [
    "main_without_coref_resolution(kge,text,'napo')"
   ]
  }
 ],
 "metadata": {
  "kernelspec": {
   "display_name": "venv",
   "language": "python",
   "name": "python3"
  },
  "language_info": {
   "codemirror_mode": {
    "name": "ipython",
    "version": 3
   },
   "file_extension": ".py",
   "mimetype": "text/x-python",
   "name": "python",
   "nbconvert_exporter": "python",
   "pygments_lexer": "ipython3",
   "version": "3.10.11"
  }
 },
 "nbformat": 4,
 "nbformat_minor": 2
}
